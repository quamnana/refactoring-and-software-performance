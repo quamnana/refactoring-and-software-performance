{
 "cells": [
  {
   "cell_type": "code",
   "execution_count": 1,
   "metadata": {},
   "outputs": [],
   "source": [
    "import pandas as pd"
   ]
  },
  {
   "cell_type": "code",
   "execution_count": 2,
   "metadata": {},
   "outputs": [],
   "source": [
    "def refactoring_unique_count(file_path):\n",
    "    # Load the dataset\n",
    "    df = pd.read_csv(file_path)\n",
    "\n",
    "    # Filter for only large and small effect sizes\n",
    "    df = df[df[\"effect_size_interpretation\"].isin([\"large\", \"small\"])]\n",
    "\n",
    "    # Split refactorings into individual items if multiple refactorings are listed\n",
    "    df[\"refactorings\"] = df[\"refactorings\"].str.split(\" + \")\n",
    "\n",
    "    # Explode the refactorings column to ensure each refactoring is counted separately\n",
    "    df = df.explode(\"refactorings\")\n",
    "\n",
    "    # Create a combined column for change_type and effect_size_interpretation\n",
    "    df[\"change_effect_combo\"] = (\n",
    "        df[\"change_type\"] + \"_\" + df[\"effect_size_interpretation\"]\n",
    "    )\n",
    "\n",
    "    # Count occurrences of each combination for each refactoring type\n",
    "    unique_counts = (\n",
    "        df.groupby([\"refactorings\", \"change_effect_combo\"])\n",
    "        .size()\n",
    "        .reset_index(name=\"count\")\n",
    "    )\n",
    "\n",
    "    # Pivot the table for better readability\n",
    "    result = (\n",
    "        unique_counts.pivot(\n",
    "            index=\"refactorings\", columns=\"change_effect_combo\", values=\"count\"\n",
    "        )\n",
    "        .fillna(0)\n",
    "        .astype(int)\n",
    "    )\n",
    "\n",
    "    # Display the results\n",
    "    print(result.to_string())\n",
    "    result.to_csv(\"../../refactorings_change_effect_combo.csv\")"
   ]
  },
  {
   "cell_type": "code",
   "execution_count": 3,
   "metadata": {},
   "outputs": [
    {
     "name": "stdout",
     "output_type": "stream",
     "text": [
      "change_effect_combo                                        improvement_large  improvement_small  regression_large  regression_small  unchanged_small\n",
      "refactorings                                                                                                                                        \n",
      "Add Method Annotation                                                      0                  1                 0                 0                1\n",
      "Add Parameter                                                              0                  1                 0                 0                0\n",
      "Add Variable Modifier                                                      0                  2                 0                 0                1\n",
      "Change Method Access Modifier                                              0                  1                 1                 0                0\n",
      "Change Parameter Type                                                      0                  0                 1                 0                0\n",
      "Change Variable Type                                                       1                  3                 0                 1                1\n",
      "Extract Method                                                             2                  3                 6                 6                2\n",
      "Extract Method + Change Variable Type                                      0                  0                 1                 0                0\n",
      "Extract Method + Extract Variable                                          0                  0                 1                 0                0\n",
      "Extract Method + Remove Method Annotation                                  0                  1                 0                 0                0\n",
      "Extract Variable                                                           2                  3                 1                 6                5\n",
      "Extract Variable + Change Variable Type + Inline Variable                  0                  1                 0                 0                0\n",
      "Inline Method                                                              1                  0                 0                 1                0\n",
      "Inline Method + Extract Variable                                           0                  0                 0                 1                0\n",
      "Inline Variable                                                            1                  0                 1                 1                1\n",
      "Inline Variable + Extract Variable                                         0                  0                 0                 1                0\n"
     ]
    }
   ],
   "source": [
    "# Example usage\n",
    "file_path = \"../data/dataset_with_refactorings.csv\"\n",
    "\n",
    "refactoring_unique_count(file_path)"
   ]
  }
 ],
 "metadata": {
  "kernelspec": {
   "display_name": "Python 3",
   "language": "python",
   "name": "python3"
  },
  "language_info": {
   "codemirror_mode": {
    "name": "ipython",
    "version": 3
   },
   "file_extension": ".py",
   "mimetype": "text/x-python",
   "name": "python",
   "nbconvert_exporter": "python",
   "pygments_lexer": "ipython3",
   "version": "3.11.0"
  }
 },
 "nbformat": 4,
 "nbformat_minor": 2
}
